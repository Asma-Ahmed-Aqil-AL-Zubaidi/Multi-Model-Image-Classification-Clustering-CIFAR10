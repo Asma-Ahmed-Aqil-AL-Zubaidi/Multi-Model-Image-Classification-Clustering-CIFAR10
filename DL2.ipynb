{
  "nbformat": 4,
  "nbformat_minor": 0,
  "metadata": {
    "colab": {
      "provenance": [],
      "machine_shape": "hm",
      "gpuType": "L4",
      "authorship_tag": "ABX9TyP1x76H4BQvI62FFv1doDlo",
      "include_colab_link": true
    },
    "kernelspec": {
      "name": "python3",
      "display_name": "Python 3"
    },
    "language_info": {
      "name": "python"
    },
    "accelerator": "GPU"
  },
  "cells": [
    {
      "cell_type": "markdown",
      "metadata": {
        "id": "view-in-github",
        "colab_type": "text"
      },
      "source": [
        "<a href=\"https://colab.research.google.com/github/Asma-Ahmed-Aqil-AL-Zubaidi/Multi-Model-Image-Classification-Clustering-CIFAR10/blob/main/DL2.ipynb\" target=\"_parent\"><img src=\"https://colab.research.google.com/assets/colab-badge.svg\" alt=\"Open In Colab\"/></a>"
      ]
    },
    {
      "cell_type": "markdown",
      "source": [
        "# Install & import required libraries"
      ],
      "metadata": {
        "id": "xOfZ1gngTObs"
      }
    },
    {
      "cell_type": "code",
      "source": [
        "!pip install scikit-learn"
      ],
      "metadata": {
        "colab": {
          "base_uri": "https://localhost:8080/"
        },
        "id": "zA5CMVUqh27q",
        "outputId": "d87ad44c-a679-4302-bf66-b1ca95283fb3"
      },
      "execution_count": null,
      "outputs": [
        {
          "output_type": "stream",
          "name": "stdout",
          "text": [
            "Requirement already satisfied: scikit-learn in /usr/local/lib/python3.11/dist-packages (1.6.1)\n",
            "Requirement already satisfied: numpy>=1.19.5 in /usr/local/lib/python3.11/dist-packages (from scikit-learn) (2.0.2)\n",
            "Requirement already satisfied: scipy>=1.6.0 in /usr/local/lib/python3.11/dist-packages (from scikit-learn) (1.15.2)\n",
            "Requirement already satisfied: joblib>=1.2.0 in /usr/local/lib/python3.11/dist-packages (from scikit-learn) (1.4.2)\n",
            "Requirement already satisfied: threadpoolctl>=3.1.0 in /usr/local/lib/python3.11/dist-packages (from scikit-learn) (3.6.0)\n"
          ]
        }
      ]
    },
    {
      "cell_type": "code",
      "source": [
        "import numpy as np\n",
        "import pandas as pd\n",
        "import matplotlib.pyplot as plt\n",
        "import seaborn as sns\n",
        "import cv2\n",
        "import shutil\n",
        "import tensorflow as tf\n",
        "from tensorflow import keras\n",
        "from tensorflow.keras.datasets import cifar10\n",
        "from tensorflow.keras.utils import to_categorical\n",
        "from tensorflow.keras.models import Sequential, Model\n",
        "from tensorflow.keras.layers import (Input, Conv2D, SeparableConv2D, MaxPooling2D,\n",
        "                                     UpSampling2D, BatchNormalization, Dropout,\n",
        "                                     Flatten, Dense, GlobalAveragePooling2D)\n",
        "from tensorflow.keras.applications import VGG16\n",
        "from tensorflow.keras.applications.vgg16 import preprocess_input\n",
        "from tensorflow.keras.optimizers import Adam\n",
        "from tensorflow.keras.preprocessing.image import ImageDataGenerator\n",
        "from tensorflow.keras.callbacks import EarlyStopping, ReduceLROnPlateau, ModelCheckpoint\n",
        "from tensorflow.keras import mixed_precision\n",
        "from sklearn.metrics import (accuracy_score, precision_score, recall_score,\n",
        "                              f1_score, confusion_matrix, classification_report,\n",
        "                              adjusted_rand_score)\n",
        "from sklearn.cluster import KMeans\n",
        "from sklearn.manifold import TSNE\n",
        "from IPython import get_ipython\n",
        "from IPython.display import display\n",
        "import matplotlib.ticker as mtick"
      ],
      "metadata": {
        "id": "8TFIVSFNS7s_"
      },
      "execution_count": null,
      "outputs": []
    },
    {
      "cell_type": "markdown",
      "source": [
        "ــــــــــــــــــــــــــــــــــــــــــــــــــــــــــــــــــــــــــــــــــــــــــــــــــــــــــــــــــــــــــــــــــــــــــــــــــــــــــــــــ"
      ],
      "metadata": {
        "id": "vYh3aTv4Vu1t"
      }
    },
    {
      "cell_type": "markdown",
      "source": [
        "# Load CIFAR-10 dataset"
      ],
      "metadata": {
        "id": "ltPjCthVTWn2"
      }
    },
    {
      "cell_type": "code",
      "source": [
        "(x_train, y_train), (x_test, y_test) = cifar10.load_data()\n",
        "class_names = ['airplane', 'automobile', 'bird', 'cat', 'deer',\n",
        "               'dog', 'frog', 'horse', 'ship', 'truck']"
      ],
      "metadata": {
        "id": "e25LlKejTOQQ"
      },
      "execution_count": null,
      "outputs": []
    },
    {
      "cell_type": "markdown",
      "source": [
        "ــــــــــــــــــــــــــــــــــــــــــــــــــــــــــــــــــــــــــــــــــــــــــــــــــــــــــــــــــــــــــــــــــــــــــــــــــــــــــــــــ"
      ],
      "metadata": {
        "id": "ShuJLVcgVuJY"
      }
    },
    {
      "cell_type": "markdown",
      "source": [
        "# Explore dataset"
      ],
      "metadata": {
        "id": "4U56_akPTaXH"
      }
    },
    {
      "cell_type": "code",
      "source": [
        "print(f\"Training set shape: {x_train.shape}\")\n",
        "print(f\"Test set shape: {x_test.shape}\")\n",
        "print(f\"Unique labels: {np.unique(y_train)}\")\n",
        "print(f\"Number of classes: {len(class_names)}\")"
      ],
      "metadata": {
        "colab": {
          "base_uri": "https://localhost:8080/"
        },
        "id": "dGt2EXVYTYrS",
        "outputId": "e536e808-fbf7-48d9-94fb-06e05a8c0148"
      },
      "execution_count": null,
      "outputs": [
        {
          "output_type": "stream",
          "name": "stdout",
          "text": [
            "Training set shape: (50000, 32, 32, 3)\n",
            "Test set shape: (10000, 32, 32, 3)\n",
            "Unique labels: [0 1 2 3 4 5 6 7 8 9]\n",
            "Number of classes: 10\n"
          ]
        }
      ]
    },
    {
      "cell_type": "markdown",
      "source": [
        "ــــــــــــــــــــــــــــــــــــــــــــــــــــــــــــــــــــــــــــــــــــــــــــــــــــــــــــــــــــــــــــــــــــــــــــــــــــــــــــــــ"
      ],
      "metadata": {
        "id": "ETjokr8SVs1A"
      }
    },
    {
      "cell_type": "markdown",
      "source": [
        "# Convert labels to 1D array"
      ],
      "metadata": {
        "id": "ibmn8p8yTf2v"
      }
    },
    {
      "cell_type": "code",
      "source": [
        "y_train = y_train.flatten()\n",
        "y_test = y_test.flatten()"
      ],
      "metadata": {
        "id": "ocLDJuAVTdCZ"
      },
      "execution_count": null,
      "outputs": []
    },
    {
      "cell_type": "markdown",
      "source": [
        "ــــــــــــــــــــــــــــــــــــــــــــــــــــــــــــــــــــــــــــــــــــــــــــــــــــــــــــــــــــــــــــــــــــــــــــــــــــــــــــــــ"
      ],
      "metadata": {
        "id": "phF6Gfj9Vr1o"
      }
    },
    {
      "cell_type": "markdown",
      "source": [
        "# Count samples per class"
      ],
      "metadata": {
        "id": "zgIe_fV_TnIg"
      }
    },
    {
      "cell_type": "code",
      "source": [
        "train_df = pd.DataFrame({'label': y_train})\n",
        "plt.figure(figsize=(10,5))\n",
        "sns.countplot(data=train_df, x='label')\n",
        "plt.xticks(ticks=np.arange(10), labels=class_names, rotation=45)\n",
        "plt.title('Distribution of Classes in Training Set')\n",
        "plt.grid(True)\n",
        "plt.tight_layout()\n",
        "plt.show()\n"
      ],
      "metadata": {
        "colab": {
          "base_uri": "https://localhost:8080/",
          "height": 507
        },
        "id": "_BKKCxnwTlN9",
        "outputId": "8348fed3-9f75-4d88-fb89-60ce826df4ad"
      },
      "execution_count": null,
      "outputs": [
        {
          "output_type": "display_data",
          "data": {
            "text/plain": [
              "<Figure size 1000x500 with 1 Axes>"
            ],
            "image/png": "[encoded data removed]"
          },
          "metadata": {}
        }
      ]
    },
    {
      "cell_type": "markdown",
      "source": [
        "# Count per class numerically"
      ],
      "metadata": {
        "id": "FoTQEhk5UTFD"
      }
    },
    {
      "cell_type": "code",
      "source": [
        "labels, counts = np.unique(y_train, return_counts=True)\n",
        "for label, count in zip(labels, counts):\n",
        "    print(f\"{class_names[label]}: {count} samples\")\n"
      ],
      "metadata": {
        "colab": {
          "base_uri": "https://localhost:8080/"
        },
        "id": "XF_nMUvpT0NU",
        "outputId": "de34e049-39fd-49b5-aec2-0a32cf5feed2"
      },
      "execution_count": null,
      "outputs": [
        {
          "output_type": "stream",
          "name": "stdout",
          "text": [
            "airplane: 5000 samples\n",
            "automobile: 5000 samples\n",
            "bird: 5000 samples\n",
            "cat: 5000 samples\n",
            "deer: 5000 samples\n",
            "dog: 5000 samples\n",
            "frog: 5000 samples\n",
            "horse: 5000 samples\n",
            "ship: 5000 samples\n",
            "truck: 5000 samples\n"
          ]
        }
      ]
    },
    {
      "cell_type": "markdown",
      "source": [
        "# Balanced Dataset"
      ],
      "metadata": {
        "id": "KU3Np9pHT9Hq"
      }
    },
    {
      "cell_type": "markdown",
      "source": [
        "ــــــــــــــــــــــــــــــــــــــــــــــــــــــــــــــــــــــــــــــــــــــــــــــــــــــــــــــــــــــــــــــــــــــــــــــــــــــــــــــــ"
      ],
      "metadata": {
        "id": "-QjZeq1DVqgZ"
      }
    },
    {
      "cell_type": "markdown",
      "source": [
        "# Show 10 sample images (one per class)"
      ],
      "metadata": {
        "id": "NoI4ujSgTx5e"
      }
    },
    {
      "cell_type": "code",
      "source": [
        "plt.figure(figsize=(12,6))\n",
        "for i in range(10):\n",
        "    idx = np.where(y_train == i)[0][0]\n",
        "    plt.subplot(2, 5, i+1)\n",
        "    plt.imshow(x_train[idx])\n",
        "    plt.title(class_names[i])\n",
        "    plt.axis('off')\n",
        "plt.suptitle(\"Sample Images from CIFAR-10 (One per Class)\")\n",
        "plt.tight_layout()\n",
        "plt.show()"
      ],
      "metadata": {
        "colab": {
          "base_uri": "https://localhost:8080/",
          "height": 583
        },
        "id": "YtkIGMAgTrL3",
        "outputId": "9214e6c6-0d72-47c0-8585-e224d3aa8daa"
      },
      "execution_count": null,
      "outputs": [
        {
          "output_type": "display_data",
          "data": {
            "text/plain": [
              "<Figure size 1200x600 with 10 Axes>"
            ],
            "image/png": "[encoded data removed]"
          },
          "metadata": {}
        }
      ]
    },
    {
      "cell_type": "markdown",
      "source": [
        "ــــــــــــــــــــــــــــــــــــــــــــــــــــــــــــــــــــــــــــــــــــــــــــــــــــــــــــــــــــــــــــــــــــــــــــــــــــــــــــــــ"
      ],
      "metadata": {
        "id": "HT56m6ApVpoL"
      }
    },
    {
      "cell_type": "markdown",
      "source": [
        "# Check shape and range"
      ],
      "metadata": {
        "id": "u1bn8H5LUddn"
      }
    },
    {
      "cell_type": "code",
      "source": [
        "print(\"Image shape:\", x_train[0].shape)\n",
        "print(\"Pixel value range:\", np.min(x_train), \"to\", np.max(x_train))"
      ],
      "metadata": {
        "colab": {
          "base_uri": "https://localhost:8080/"
        },
        "id": "ugRS732jUVOn",
        "outputId": "c5ac1420-fdd5-4024-b69c-1dd15bc3ad1b"
      },
      "execution_count": null,
      "outputs": [
        {
          "output_type": "stream",
          "name": "stdout",
          "text": [
            "Image shape: (32, 32, 3)\n",
            "Pixel value range: 0 to 255\n"
          ]
        }
      ]
    },
    {
      "cell_type": "markdown",
      "source": [
        "# Result:"
      ],
      "metadata": {
        "id": "gEKeZpx4VBnr"
      }
    },
    {
      "cell_type": "markdown",
      "source": [
        "I need to make sure that all images are (32, 32, 3) and that the pixel values ​​are between 0 and 255."
      ],
      "metadata": {
        "id": "Cp_OuS3BVBEX"
      }
    },
    {
      "cell_type": "markdown",
      "source": [
        "ــــــــــــــــــــــــــــــــــــــــــــــــــــــــــــــــــــــــــــــــــــــــــــــــــــــــــــــــــــــــــــــــــــــــــــــــــــــــــــــــ"
      ],
      "metadata": {
        "id": "UBQggcJYVG2k"
      }
    },
    {
      "cell_type": "markdown",
      "source": [
        "# Show 5 different samples from class \"cat\" (for example)"
      ],
      "metadata": {
        "id": "7J_TmizEUkae"
      }
    },
    {
      "cell_type": "code",
      "source": [
        "cat_indices = np.where(y_train == class_names.index(\"cat\"))[0][:5]\n",
        "\n",
        "plt.figure(figsize=(10,2))\n",
        "for i, idx in enumerate(cat_indices):\n",
        "    plt.subplot(1, 5, i+1)\n",
        "    plt.imshow(x_train[idx])\n",
        "    plt.title(f\"Cat #{i+1}\")\n",
        "    plt.axis('off')\n",
        "plt.suptitle(\"Variation inside 'cat' class\")\n",
        "plt.tight_layout()\n",
        "plt.show()\n"
      ],
      "metadata": {
        "colab": {
          "base_uri": "https://localhost:8080/",
          "height": 218
        },
        "id": "-MPIpdcWUfqk",
        "outputId": "90549089-ae8b-4c99-b617-06c010c27b5e"
      },
      "execution_count": null,
      "outputs": [
        {
          "output_type": "display_data",
          "data": {
            "text/plain": [
              "<Figure size 1000x200 with 5 Axes>"
            ],
            "image/png": "[encoded data removed]"
          },
          "metadata": {}
        }
      ]
    },
    {
      "cell_type": "markdown",
      "source": [
        "# Result:"
      ],
      "metadata": {
        "id": "WAMcMtr8U2LN"
      }
    },
    {
      "cell_type": "markdown",
      "source": [
        "We need to make sure that the data contains variations. This proves that there is diversity within the same class, which is important for the model so that it does not save the images!"
      ],
      "metadata": {
        "id": "xTMgr_FYUya6"
      }
    },
    {
      "cell_type": "markdown",
      "source": [
        "ــــــــــــــــــــــــــــــــــــــــــــــــــــــــــــــــــــــــــــــــــــــــــــــــــــــــــــــــــــــــــــــــــــــــــــــــــــــــــــــــ"
      ],
      "metadata": {
        "id": "XJU43ccsVnP3"
      }
    },
    {
      "cell_type": "markdown",
      "source": [
        "# Check for duplicate images"
      ],
      "metadata": {
        "id": "tGSm1h50VTab"
      }
    },
    {
      "cell_type": "code",
      "source": [
        "x_train_reshaped = x_train.reshape((x_train.shape[0], -1))\n",
        "unique_images = np.unique(x_train_reshaped, axis=0)\n",
        "print(\"Unique images in training set:\", unique_images.shape[0])\n",
        "print(\"Total images in training set:\", x_train.shape[0])"
      ],
      "metadata": {
        "colab": {
          "base_uri": "https://localhost:8080/"
        },
        "id": "IidZNUlzUmsa",
        "outputId": "fb4a212f-de91-475c-b428-fdcdaad2b188"
      },
      "execution_count": null,
      "outputs": [
        {
          "output_type": "stream",
          "name": "stdout",
          "text": [
            "Unique images in training set: 50000\n",
            "Total images in training set: 50000\n"
          ]
        }
      ]
    },
    {
      "cell_type": "markdown",
      "source": [
        "# Result:"
      ],
      "metadata": {
        "id": "B4T9hithVhU8"
      }
    },
    {
      "cell_type": "markdown",
      "source": [
        "I must make sure that the images do not contain duplication. This is very important to avoid adding bias."
      ],
      "metadata": {
        "id": "TcyXacbHVgrw"
      }
    },
    {
      "cell_type": "markdown",
      "source": [
        "ــــــــــــــــــــــــــــــــــــــــــــــــــــــــــــــــــــــــــــــــــــــــــــــــــــــــــــــــــــــــــــــــــــــــــــــــــــــــــــــــ"
      ],
      "metadata": {
        "id": "qvKdGxksVoGA"
      }
    },
    {
      "cell_type": "markdown",
      "source": [
        "# Calculate the percentage for each category"
      ],
      "metadata": {
        "id": "RCEF_YajWBlM"
      }
    },
    {
      "cell_type": "code",
      "source": [
        "class_distribution = pd.Series(y_train).value_counts(normalize=True).sort_index()\n",
        "class_distribution.index = class_names\n",
        "class_distribution *= 100\n",
        "\n",
        "plt.figure(figsize=(10,5))\n",
        "sns.barplot(x=class_distribution.index, y=class_distribution.values)\n",
        "plt.gca().yaxis.set_major_formatter(mtick.PercentFormatter())\n",
        "plt.ylabel(\"Percentage (%)\")\n",
        "plt.title(\"Class Distribution in Training Set (%)\")\n",
        "plt.xticks(rotation=45)\n",
        "plt.tight_layout()\n",
        "plt.show()"
      ],
      "metadata": {
        "colab": {
          "base_uri": "https://localhost:8080/",
          "height": 507
        },
        "id": "s3Nr82nMVXCW",
        "outputId": "2066a49b-4305-478e-a2f6-aebd902a2c5f"
      },
      "execution_count": null,
      "outputs": [
        {
          "output_type": "display_data",
          "data": {
            "text/plain": [
              "<Figure size 1000x500 with 1 Axes>"
            ],
            "image/png": "[encoded data removed]"
          },
          "metadata": {}
        }
      ]
    },
    {
      "cell_type": "markdown",
      "source": [
        "ــــــــــــــــــــــــــــــــــــــــــــــــــــــــــــــــــــــــــــــــــــــــــــــــــــــــــــــــــــــــــــــــــــــــــــــــــــــــــــــــ"
      ],
      "metadata": {
        "id": "dZ0paAZxWEfk"
      }
    },
    {
      "cell_type": "markdown",
      "source": [
        "# The second stage"
      ],
      "metadata": {
        "id": "o_6Bq-xHWU-T"
      }
    },
    {
      "cell_type": "markdown",
      "source": [
        "Phase 2: Train a custom CNN from scratch on CIFAR-10\n",
        " - Build a deep CNN with Conv, BatchNorm, Pooling, Dropout\n",
        " - Apply data augmentation to improve generalization\n",
        " - Use EarlyStopping and ReduceLROnPlateau for optimization\n",
        " - Plot accuracy and loss curves for evaluation\n"
      ],
      "metadata": {
        "id": "wcyspfRaW4ok"
      }
    },
    {
      "cell_type": "markdown",
      "source": [
        "ــــــــــــــــــــــــــــــــــــــــــــــــــــــــــــــــــــــــــــــــــــــــــــــــــــــــــــــــــــــــــــــــــــــــــــــــــــــــــــــــ"
      ],
      "metadata": {
        "id": "rlOtQr2AWc2l"
      }
    },
    {
      "cell_type": "markdown",
      "source": [
        "# Define improved CNN model"
      ],
      "metadata": {
        "id": "cJwMzFbpWrAz"
      }
    },
    {
      "cell_type": "markdown",
      "source": [
        "Normalize images and one-hot encode labels"
      ],
      "metadata": {
        "id": "KN11cxZdZj9e"
      }
    },
    {
      "cell_type": "code",
      "source": [
        "(x_train, y_train), (x_test, y_test) = cifar10.load_data()\n",
        "\n",
        "\n",
        "x_train = x_train.astype('float32') / 255.0\n",
        "x_test = x_test.astype('float32') / 255.0\n",
        "\n",
        "\n",
        "x_train_resized = tf.image.resize(x_train, [128, 128]).numpy()\n",
        "x_test_resized = tf.image.resize(x_test, [128, 128]).numpy()\n",
        "\n",
        "y_train_cat = to_categorical(y_train, 10)\n",
        "y_test_cat = to_categorical(y_test, 10)"
      ],
      "metadata": {
        "id": "HOY41hQjZiIM",
        "collapsed": true
      },
      "execution_count": null,
      "outputs": []
    },
    {
      "cell_type": "markdown",
      "source": [
        "Data Augmentation"
      ],
      "metadata": {
        "id": "g1J6NWl2ZkiL"
      }
    },
    {
      "cell_type": "code",
      "source": [
        "datagen = ImageDataGenerator(\n",
        "    rotation_range=15,\n",
        "    width_shift_range=0.1,\n",
        "    height_shift_range=0.1,\n",
        "    horizontal_flip=True\n",
        ")\n",
        "# datagen.fit(x_train_norm)"
      ],
      "metadata": {
        "id": "ZQnCQKYtZmDP"
      },
      "execution_count": null,
      "outputs": []
    },
    {
      "cell_type": "markdown",
      "source": [
        "# CNN model"
      ],
      "metadata": {
        "id": "OuOaAXYwZqZh"
      }
    },
    {
      "cell_type": "code",
      "source": [
        "def build_advanced_cnn_functional(input_shape=(128, 128, 3), num_classes=10):\n",
        "    inputs = Input(shape=input_shape)\n",
        "\n",
        "\n",
        "    x = Conv2D(32, (3,3), padding='same', activation='relu', kernel_initializer='he_normal', name=\"conv1_1\")(inputs)\n",
        "    x = BatchNormalization(name=\"bn1_1\")(x)\n",
        "    x = Conv2D(32, (3,3), padding='same', activation='relu', kernel_initializer='he_normal', name=\"conv1_2\")(x)\n",
        "    x = BatchNormalization(name=\"bn1_2\")(x)\n",
        "    x = MaxPooling2D(pool_size=(2,2), name=\"pool1\")(x)\n",
        "    x = Dropout(0.3, name=\"drop1\")(x)\n",
        "\n",
        "\n",
        "    x = Conv2D(64, (3,3), padding='same', activation='relu', kernel_initializer='he_normal', name=\"conv2_1\")(x)\n",
        "    x = BatchNormalization(name=\"bn2_1\")(x)\n",
        "    x = Conv2D(64, (3,3), padding='same', activation='relu', kernel_initializer='he_normal', name=\"conv2_2\")(x)\n",
        "    x = BatchNormalization(name=\"bn2_2\")(x)\n",
        "    x = MaxPooling2D(pool_size=(2,2), name=\"pool2\")(x)\n",
        "    x = Dropout(0.4, name=\"drop2\")(x)\n",
        "\n",
        "\n",
        "    x = Conv2D(128, (3,3), padding='same', activation='relu', kernel_initializer='he_normal', name=\"conv3_1\")(x)\n",
        "    x = BatchNormalization(name=\"bn3_1\")(x)\n",
        "    x = Conv2D(128, (3,3), padding='same', activation='relu', kernel_initializer='he_normal', name=\"conv3_2\")(x)\n",
        "    x = BatchNormalization(name=\"bn3_2\")(x)\n",
        "    x = MaxPooling2D(pool_size=(2,2), name=\"pool3\")(x)\n",
        "    x = Dropout(0.5, name=\"drop3\")(x)\n",
        "\n",
        "\n",
        "    x = Flatten(name=\"flatten\")(x)\n",
        "    x = Dense(256, activation='relu', kernel_initializer='he_normal', name=\"fc1\")(x)\n",
        "    x = Dropout(0.5, name=\"drop_fc\")(x)\n",
        "    outputs = Dense(num_classes, activation='softmax', name=\"output\")(x)\n",
        "\n",
        "    model = Model(inputs=inputs, outputs=outputs, name=\"advanced_cnn_functional\")\n",
        "    return model\n"
      ],
      "metadata": {
        "id": "RE26ONdjW928"
      },
      "execution_count": null,
      "outputs": []
    },
    {
      "cell_type": "markdown",
      "source": [
        "# Compile model"
      ],
      "metadata": {
        "id": "pN1RpZ0sYsZL"
      }
    },
    {
      "cell_type": "code",
      "source": [
        "model = model = build_advanced_cnn_functional()\n",
        "model.compile(optimizer='adam',\n",
        "              loss='categorical_crossentropy',\n",
        "              metrics=['accuracy'])\n"
      ],
      "metadata": {
        "id": "fWzqLdSaYrBD"
      },
      "execution_count": null,
      "outputs": []
    },
    {
      "cell_type": "markdown",
      "source": [
        "\n",
        "#  Callbacks\n"
      ],
      "metadata": {
        "id": "6JT7Pg47YoEH"
      }
    },
    {
      "cell_type": "code",
      "source": [
        "early_stop = EarlyStopping(monitor='val_loss', patience=8, restore_best_weights=True)\n",
        "reduce_lr = ReduceLROnPlateau(monitor='val_loss', factor=0.5, patience=3, verbose=1)\n"
      ],
      "metadata": {
        "id": "D4Kyx1yeYlwv"
      },
      "execution_count": null,
      "outputs": []
    },
    {
      "cell_type": "markdown",
      "source": [
        "# Train the model"
      ],
      "metadata": {
        "id": "gsmoXsvnYimV"
      }
    },
    {
      "cell_type": "code",
      "source": [
        "history = model.fit(\n",
        "    datagen.flow(x_train_norm, y_train_cat, batch_size=64),\n",
        "    validation_data=(x_test_norm, y_test_cat),\n",
        "    epochs=80,\n",
        "    callbacks=[early_stop, reduce_lr],\n",
        "    verbose=1\n",
        ")"
      ],
      "metadata": {
        "id": "NVXIsmS_YaVD"
      },
      "execution_count": null,
      "outputs": []
    },
    {
      "cell_type": "markdown",
      "source": [
        "Professional models reach 85–87%, very close to peak performance."
      ],
      "metadata": {
        "id": "8mEMLCSPgaa6"
      }
    },
    {
      "cell_type": "markdown",
      "source": [
        "# Plot training curves"
      ],
      "metadata": {
        "id": "WxaYt5YYYbaD"
      }
    },
    {
      "cell_type": "code",
      "source": [
        "plt.figure(figsize=(12, 4))\n",
        "plt.subplot(1, 2, 1)\n",
        "plt.plot(history.history['accuracy'], label='Train Acc')\n",
        "plt.plot(history.history['val_accuracy'], label='Val Acc')\n",
        "plt.title('Model Accuracy')\n",
        "plt.xlabel('Epoch')\n",
        "plt.ylabel('Accuracy')\n",
        "plt.legend()\n",
        "\n",
        "plt.subplot(1, 2, 2)\n",
        "plt.plot(history.history['loss'], label='Train Loss')\n",
        "plt.plot(history.history['val_loss'], label='Val Loss')\n",
        "plt.title('Model Loss')\n",
        "plt.xlabel('Epoch')\n",
        "plt.ylabel('Loss')\n",
        "plt.legend()\n",
        "plt.tight_layout()\n",
        "plt.show()"
      ],
      "metadata": {
        "id": "kFEPTkJvYZOF"
      },
      "execution_count": null,
      "outputs": []
    },
    {
      "cell_type": "markdown",
      "source": [
        "# Evaluate on test set"
      ],
      "metadata": {
        "id": "06BYVYxehUfn"
      }
    },
    {
      "cell_type": "code",
      "source": [
        "test_loss, test_acc = model.evaluate(x_test_norm, y_test_cat, verbose=0)\n",
        "print(f\"\\n Final Test Accuracy: {test_acc:.4f}\")\n",
        "print(f\" Final Test Loss: {test_loss:.4f}\")"
      ],
      "metadata": {
        "id": "SUxmLBQUfz_X"
      },
      "execution_count": null,
      "outputs": []
    },
    {
      "cell_type": "markdown",
      "source": [
        "# Predict probabilities and labels"
      ],
      "metadata": {
        "id": "3Q8u6xeohoL-"
      }
    },
    {
      "cell_type": "code",
      "source": [
        "y_pred_probs = model.predict(x_test_norm, verbose=0)\n",
        "y_pred = np.argmax(y_pred_probs, axis=1)"
      ],
      "metadata": {
        "id": "fUn_v98dhdsP"
      },
      "execution_count": null,
      "outputs": []
    },
    {
      "cell_type": "markdown",
      "source": [
        "# Evaluation Metrics"
      ],
      "metadata": {
        "id": "7lN9tyCxhrvx"
      }
    },
    {
      "cell_type": "code",
      "source": [
        "acc = accuracy_score(y_test, y_pred)\n",
        "prec = precision_score(y_test, y_pred, average='weighted')\n",
        "rec = recall_score(y_test, y_pred, average='weighted')\n",
        "f1 = f1_score(y_test, y_pred, average='weighted')"
      ],
      "metadata": {
        "id": "FnVHwyUhhnUS"
      },
      "execution_count": null,
      "outputs": []
    },
    {
      "cell_type": "code",
      "source": [
        "print(f\"Accuracy: {acc:.4f}\")\n",
        "print(f\" Precision: {prec:.4f}\")\n",
        "print(f\" Recall: {rec:.4f}\")\n",
        "print(f\" F1 Score: {f1:.4f}\")"
      ],
      "metadata": {
        "id": "zxc2Nmvzhtw1"
      },
      "execution_count": null,
      "outputs": []
    },
    {
      "cell_type": "markdown",
      "source": [
        "# Classification Report"
      ],
      "metadata": {
        "id": "YnLkEQVsiCt7"
      }
    },
    {
      "cell_type": "code",
      "source": [
        "print(\"\\n Full Classification Report:\")\n",
        "print(classification_report(y_test, y_pred, target_names=class_names))"
      ],
      "metadata": {
        "id": "o7gBrx0fh9_G"
      },
      "execution_count": null,
      "outputs": []
    },
    {
      "cell_type": "markdown",
      "source": [
        "# Confusion Matrix"
      ],
      "metadata": {
        "id": "EfnRnORRiXR_"
      }
    },
    {
      "cell_type": "code",
      "source": [
        "conf_matrix = confusion_matrix(y_test, y_pred)\n",
        "plt.figure(figsize=(12, 10))\n",
        "sns.heatmap(conf_matrix, annot=True, fmt='d', cmap='viridis', xticklabels=class_names, yticklabels=class_names)\n",
        "plt.title(\"Confusion Matrix\", fontsize=16)\n",
        "plt.xlabel(\"Predicted Label\")\n",
        "plt.ylabel(\"True Label\")\n",
        "plt.xticks(rotation=45)\n",
        "plt.tight_layout()\n",
        "plt.show()"
      ],
      "metadata": {
        "id": "SKx_LJJmiElh"
      },
      "execution_count": null,
      "outputs": []
    },
    {
      "cell_type": "markdown",
      "source": [
        "# Visualize worst mistakes"
      ],
      "metadata": {
        "id": "eCXV3Z6riwYF"
      }
    },
    {
      "cell_type": "code",
      "source": [
        "def show_top_errors(num_errors=5):\n",
        "    errors = []\n",
        "    for i in range(len(y_test)):\n",
        "        if y_test[i] != y_pred[i]:\n",
        "            confidence = np.max(y_pred_probs[i])\n",
        "            errors.append((i, y_test[i], y_pred[i], confidence))\n",
        "\n",
        "    errors.sort(key=lambda x: x[3], reverse=True)\n",
        "    top_errors = errors[:num_errors]\n",
        "\n",
        "    plt.figure(figsize=(15, 3))\n",
        "    for i, (idx, true, pred, conf) in enumerate(top_errors):\n",
        "        plt.subplot(1, num_errors, i + 1)\n",
        "        plt.imshow(x_test[idx])\n",
        "        plt.title(f\"True: {class_names[true]}\\nPred: {class_names[pred]}\\nConf: {conf:.2f}\", color='red')\n",
        "        plt.axis('off')\n",
        "    plt.suptitle(\"Top Confident Mistakes\", fontsize=14)\n",
        "    plt.tight_layout()\n",
        "    plt.show()\n",
        "\n",
        "show_top_errors()\n"
      ],
      "metadata": {
        "id": "ZIRj609ZiYzg"
      },
      "execution_count": null,
      "outputs": []
    },
    {
      "cell_type": "markdown",
      "source": [
        "# Visualize most confident correct predictions"
      ],
      "metadata": {
        "id": "JZ5A6ZVei5nW"
      }
    },
    {
      "cell_type": "code",
      "source": [
        "def show_top_correct(num=5):\n",
        "    correct = []\n",
        "    for i in range(len(y_test)):\n",
        "        if y_test[i] == y_pred[i]:\n",
        "            confidence = np.max(y_pred_probs[i])\n",
        "            correct.append((i, y_test[i], y_pred[i], confidence))\n",
        "\n",
        "    correct.sort(key=lambda x: x[3], reverse=True)\n",
        "    top_correct = correct[:num]\n",
        "\n",
        "    plt.figure(figsize=(15, 3))\n",
        "    for i, (idx, true, pred, conf) in enumerate(top_correct):\n",
        "        plt.subplot(1, num, i + 1)\n",
        "        plt.imshow(x_test[idx])\n",
        "        plt.title(f\"{class_names[pred]}\\nConf: {conf:.2f}\", color='green')\n",
        "        plt.axis('off')\n",
        "    plt.suptitle(\"Most Confident Correct Predictions\", fontsize=14)\n",
        "    plt.tight_layout()\n",
        "    plt.show()\n",
        "\n",
        "show_top_correct()"
      ],
      "metadata": {
        "id": "HvKtz7niiyR6"
      },
      "execution_count": null,
      "outputs": []
    },
    {
      "cell_type": "markdown",
      "source": [
        "# Export predictions to CSV"
      ],
      "metadata": {
        "id": "lXyx5bPIi_0q"
      }
    },
    {
      "cell_type": "code",
      "source": [
        "results_df = pd.DataFrame({\n",
        "    'True_Label': [class_names[i] for i in y_test],\n",
        "    'Predicted_Label': [class_names[i] for i in y_pred],\n",
        "    'Confidence': [np.max(p) for p in y_pred_probs]\n",
        "})\n",
        "results_df.to_csv(\"cnn_predictions.csv\", index=False)\n"
      ],
      "metadata": {
        "id": "mhFu3UiKi68L"
      },
      "execution_count": null,
      "outputs": []
    },
    {
      "cell_type": "markdown",
      "source": [
        "# Save model"
      ],
      "metadata": {
        "id": "vrxS39jnjKg-"
      }
    },
    {
      "cell_type": "code",
      "source": [
        "model.save(\"cnn_model_scratch_DL2.h5\")"
      ],
      "metadata": {
        "id": "bi6YUdLGjBsw"
      },
      "execution_count": null,
      "outputs": []
    },
    {
      "cell_type": "markdown",
      "source": [
        " Phase 6: Grad-CAM (Visual Explanation)\n",
        " - Apply Grad-CAM to trained CNN model\n",
        " - Show where the model focuses in the image\n",
        " - Helps interpret model decisions\n",
        " - Acts as weak object detection\n",
        " - Will be repeated for VGG16 later\n"
      ],
      "metadata": {
        "id": "YI9qADbxkQi6"
      }
    },
    {
      "cell_type": "markdown",
      "source": [
        "# Load model"
      ],
      "metadata": {
        "id": "jFZ3rexqkOSi"
      }
    },
    {
      "cell_type": "code",
      "source": [
        "model = tf.keras.models.load_model(\"cnn_model_scratch_DL2.h5\")\n",
        "_ = model.predict(np.expand_dims(x_test_norm[0], axis=0))\n"
      ],
      "metadata": {
        "id": "Jy_667tvkM5W"
      },
      "execution_count": null,
      "outputs": []
    },
    {
      "cell_type": "code",
      "source": [
        "idx = 12\n",
        "img = x_test_norm[idx]\n",
        "img_input = np.expand_dims(img, axis=0)\n",
        "img_tensor = tf.convert_to_tensor(img_input, dtype=tf.float32)\n",
        "\n",
        "preds = model.predict(img_input, verbose=0)\n",
        "predicted_class = np.argmax(preds[0])\n",
        "true_class = y_test[idx]\n",
        "print(f\"Predicted: {class_names[predicted_class]} | True: {class_names[true_class]}\")\n",
        "\n",
        "\n",
        "last_conv_layer_name = \"conv3_2\"\n",
        "\n",
        "\n",
        "def make_gradcam_heatmap(img_array, model, last_conv_layer_name, pred_index=None):\n",
        "    grad_model = tf.keras.models.Model(\n",
        "        inputs=model.input,\n",
        "        outputs=[model.get_layer(last_conv_layer_name).output, model.output]\n",
        "    )\n",
        "\n",
        "    with tf.GradientTape() as tape:\n",
        "        conv_outputs, predictions = grad_model(img_array)\n",
        "        if pred_index is None:\n",
        "            pred_index = tf.argmax(predictions[0])\n",
        "        class_output = predictions[:, pred_index]\n",
        "\n",
        "    grads = tape.gradient(class_output, conv_outputs)\n",
        "    pooled_grads = tf.reduce_mean(grads, axis=(0, 1, 2))\n",
        "    conv_outputs = conv_outputs[0]\n",
        "    heatmap = conv_outputs @ pooled_grads[..., tf.newaxis]\n",
        "    heatmap = tf.squeeze(heatmap)\n",
        "    heatmap = tf.maximum(heatmap, 0) / tf.math.reduce_max(heatmap)\n",
        "    return heatmap.numpy()\n",
        "\n",
        "\n",
        "heatmap = make_gradcam_heatmap(img_tensor, model, last_conv_layer_name)\n",
        "\n",
        "\n",
        "def display_gradcam(img, heatmap, alpha=0.4):\n",
        "    heatmap_resized = cv2.resize(heatmap, (img.shape[1], img.shape[0]))\n",
        "    heatmap_colored = cv2.applyColorMap(np.uint8(255 * heatmap_resized), cv2.COLORMAP_JET)\n",
        "    superimposed_img = heatmap_colored * alpha + (img * 255).astype(np.uint8)\n",
        "\n",
        "    plt.figure(figsize=(10, 4))\n",
        "    plt.subplot(1, 3, 1)\n",
        "    plt.imshow(img)\n",
        "    plt.title(\"Original\")\n",
        "    plt.axis('off')\n",
        "\n",
        "    plt.subplot(1, 3, 2)\n",
        "    plt.imshow(heatmap_resized, cmap='jet')\n",
        "    plt.title(\"Grad-CAM Heatmap\")\n",
        "    plt.axis('off')\n",
        "\n",
        "    plt.subplot(1, 3, 3)\n",
        "    plt.imshow(superimposed_img[..., ::-1])\n",
        "    plt.title(\"Superimposed\")\n",
        "    plt.axis('off')\n",
        "\n",
        "    plt.tight_layout()\n",
        "    plt.show()\n",
        "\n",
        "\n",
        "display_gradcam(img, heatmap)\n"
      ],
      "metadata": {
        "id": "eW3X6pp6uRxl"
      },
      "execution_count": null,
      "outputs": []
    },
    {
      "cell_type": "code",
      "source": [
        "num_images = x_test_norm.shape[0]\n",
        "selected_indices = range(num_images - 5, num_images)\n",
        "\n",
        "\n",
        "fig, axes = plt.subplots(5, 3, figsize=(12, 10))\n",
        "fig.suptitle(\" Grad-CAM Analysis for Last 5 Test Images\", fontsize=16)\n",
        "\n",
        "for row_idx, idx in enumerate(selected_indices):\n",
        "    img = x_test_norm[idx]\n",
        "    img_input = np.expand_dims(img, axis=0)\n",
        "    img_tensor = tf.convert_to_tensor(img_input, dtype=tf.float32)\n",
        "\n",
        "\n",
        "    preds = model.predict(img_input, verbose=0)\n",
        "    predicted_class = np.argmax(preds[0])\n",
        "    true_class = y_test[idx]\n",
        "\n",
        "    # Grad-CAM\n",
        "    heatmap = make_gradcam_heatmap(img_tensor, model, last_conv_layer_name)\n",
        "    heatmap_resized = cv2.resize(heatmap, (img.shape[1], img.shape[0]))\n",
        "    heatmap_colored = cv2.applyColorMap(np.uint8(255 * heatmap_resized), cv2.COLORMAP_JET)\n",
        "    superimposed_img = heatmap_colored * 0.4 + (img * 255).astype(np.uint8)\n",
        "\n",
        "\n",
        "    axes[row_idx, 0].imshow(img)\n",
        "    axes[row_idx, 0].set_title(\"Original\")\n",
        "    axes[row_idx, 0].axis('off')\n",
        "\n",
        "\n",
        "    axes[row_idx, 1].imshow(heatmap_resized, cmap='jet')\n",
        "    axes[row_idx, 1].set_title(\"Grad-CAM\")\n",
        "    axes[row_idx, 1].axis('off')\n",
        "\n",
        "\n",
        "    axes[row_idx, 2].imshow(superimposed_img[..., ::-1])\n",
        "    axes[row_idx, 2].set_title(f\"Pred: {class_names[predicted_class]}\\nTrue: {class_names[true_class]}\")\n",
        "    axes[row_idx, 2].axis('off')\n",
        "\n",
        "plt.tight_layout(rect=[0, 0, 1, 0.96])\n",
        "plt.show()\n"
      ],
      "metadata": {
        "id": "mD-BFGjq2UWp"
      },
      "execution_count": null,
      "outputs": []
    },
    {
      "cell_type": "code",
      "source": [
        "os.makedirs(\"gradcam_outputs\", exist_ok=True)\n",
        "\n",
        "\n",
        "num_images = x_test_norm.shape[0]\n",
        "selected_indices = range(num_images - 5, num_images)\n",
        "\n",
        "for i, idx in enumerate(selected_indices, start=1):\n",
        "    img = x_test_norm[idx]\n",
        "    img_input = np.expand_dims(img, axis=0)\n",
        "    img_tensor = tf.convert_to_tensor(img_input, dtype=tf.float32)\n",
        "\n",
        "\n",
        "    preds = model.predict(img_input, verbose=0)\n",
        "    predicted_class = np.argmax(preds[0])\n",
        "    true_class = y_test[idx]\n",
        "\n",
        "\n",
        "    heatmap = make_gradcam_heatmap(img_tensor, model, last_conv_layer_name)\n",
        "    heatmap_resized = cv2.resize(heatmap, (img.shape[1], img.shape[0]))\n",
        "    heatmap_colored = cv2.applyColorMap(np.uint8(255 * heatmap_resized), cv2.COLORMAP_JET)\n",
        "    superimposed_img = heatmap_colored * 0.4 + (img * 255).astype(np.uint8)\n",
        "\n",
        "\n",
        "    fig, axes = plt.subplots(1, 3, figsize=(10, 4))\n",
        "    fig.suptitle(f\"Image #{idx} | Predicted: {class_names[predicted_class]} | True: {class_names[true_class]}\", fontsize=13)\n",
        "\n",
        "\n",
        "    axes[0].imshow(img)\n",
        "    axes[0].set_title(\"Original\")\n",
        "    axes[0].axis('off')\n",
        "\n",
        "\n",
        "    axes[1].imshow(heatmap_resized, cmap='jet')\n",
        "    axes[1].set_title(\"Grad-CAM Heatmap\")\n",
        "    axes[1].axis('off')\n",
        "\n",
        "\n",
        "    axes[2].imshow(superimposed_img[..., ::-1])\n",
        "    axes[2].set_title(\"Superimposed\")\n",
        "    axes[2].axis('off')\n",
        "\n",
        "    plt.tight_layout()\n",
        "\n",
        "\n",
        "    save_path = f\"gradcam_outputs/gradcam_img_{i}.png\"\n",
        "    plt.savefig(save_path, dpi=300, bbox_inches='tight')\n",
        "    plt.close()\n",
        "\n",
        "    print(f\"Saved: {save_path}\")\n"
      ],
      "metadata": {
        "id": "sLT6J93A22UH"
      },
      "execution_count": null,
      "outputs": []
    },
    {
      "cell_type": "code",
      "source": [
        "shutil.make_archive(\"GradCAM_Images\", 'zip', \"gradcam_outputs\")\n",
        "files.download(\"GradCAM_Images.zip\")"
      ],
      "metadata": {
        "id": "iEYvZTHk3v0j"
      },
      "execution_count": null,
      "outputs": []
    },
    {
      "cell_type": "markdown",
      "source": [
        "# build_cnn_with_separable_conv"
      ],
      "metadata": {
        "id": "jvfpBY8g4fOu"
      }
    },
    {
      "cell_type": "code",
      "source": [
        "def build_cnn_with_separable_conv(input_shape=(128, 128, 3), num_classes=10):\n",
        "    inputs = Input(shape=input_shape)\n",
        "\n",
        "    x = Conv2D(32, (3,3), padding='same', activation='relu', kernel_initializer='he_normal', name=\"conv1_1\")(inputs)\n",
        "    x = BatchNormalization(name=\"bn1_1\")(x)\n",
        "    x = Conv2D(32, (3,3), padding='same', activation='relu', kernel_initializer='he_normal', name=\"conv1_2\")(x)\n",
        "    x = BatchNormalization(name=\"bn1_2\")(x)\n",
        "    x = MaxPooling2D(pool_size=(2,2), name=\"pool1\")(x)\n",
        "    x = Dropout(0.3, name=\"drop1\")(x)\n",
        "\n",
        "\n",
        "    x = SeparableConv2D(64, (3,3), padding='same', activation='relu', depthwise_initializer='he_normal', pointwise_initializer='he_normal', name=\"sepconv2_1\")(x)\n",
        "    x = BatchNormalization(name=\"bn2_1\")(x)\n",
        "    x = SeparableConv2D(64, (3,3), padding='same', activation='relu', depthwise_initializer='he_normal', pointwise_initializer='he_normal', name=\"sepconv2_2\")(x)\n",
        "    x = BatchNormalization(name=\"bn2_2\")(x)\n",
        "    x = MaxPooling2D(pool_size=(2,2), name=\"pool2\")(x)\n",
        "    x = Dropout(0.4, name=\"drop2\")(x)\n",
        "\n",
        "\n",
        "    x = Conv2D(128, (3,3), padding='same', activation='relu', kernel_initializer='he_normal', name=\"conv3_1\")(x)\n",
        "    x = BatchNormalization(name=\"bn3_1\")(x)\n",
        "    x = Conv2D(128, (3,3), padding='same', activation='relu', kernel_initializer='he_normal', name=\"conv3_2\")(x)\n",
        "    x = BatchNormalization(name=\"bn3_2\")(x)\n",
        "    x = MaxPooling2D(pool_size=(2,2), name=\"pool3\")(x)\n",
        "    x = Dropout(0.5, name=\"drop3\")(x)\n",
        "\n",
        "\n",
        "    x = Flatten(name=\"flatten\")(x)\n",
        "    x = Dense(256, activation='relu', kernel_initializer='he_normal', name=\"fc1\")(x)\n",
        "    x = Dropout(0.5, name=\"drop_fc\")(x)\n",
        "    outputs = Dense(num_classes, activation='softmax', name=\"output\")(x)\n",
        "\n",
        "\n",
        "    model = Model(inputs=inputs, outputs=outputs, name=\"cnn_with_separable\")\n",
        "    return model"
      ],
      "metadata": {
        "id": "iiWlsZni6GxE"
      },
      "execution_count": null,
      "outputs": []
    },
    {
      "cell_type": "code",
      "source": [
        "model_separable = build_cnn_with_separable_conv()"
      ],
      "metadata": {
        "id": "QeK0Z2Rl8IOi"
      },
      "execution_count": null,
      "outputs": []
    },
    {
      "cell_type": "markdown",
      "source": [
        "Compile"
      ],
      "metadata": {
        "id": "aG08S4My8bWh"
      }
    },
    {
      "cell_type": "code",
      "source": [
        "model_separable.compile(\n",
        "    optimizer='adam',\n",
        "    loss='categorical_crossentropy',\n",
        "    metrics=['accuracy']\n",
        ")"
      ],
      "metadata": {
        "id": "oOK8Jchc8GuD"
      },
      "execution_count": null,
      "outputs": []
    },
    {
      "cell_type": "code",
      "source": [
        "early_stop = EarlyStopping(monitor='val_loss', patience=8, restore_best_weights=True, verbose=1)\n",
        "reduce_lr = ReduceLROnPlateau(monitor='val_loss', factor=0.5, patience=3, verbose=1)\n",
        "checkpoint = ModelCheckpoint(\"best_model_separable.h5\", monitor='val_accuracy', save_best_only=True, verbose=1)\n",
        "\n",
        "callbacks = [early_stop, reduce_lr, checkpoint]\n",
        "\n",
        "history_separable = model_separable.fit(\n",
        "    datagen.flow(x_train_norm, y_train_cat, batch_size=64),\n",
        "    validation_data=(x_test_norm, y_test_cat),\n",
        "    epochs=80,\n",
        "    callbacks=callbacks,\n",
        "    verbose=1\n",
        ")"
      ],
      "metadata": {
        "id": "JcbUA17P8Dl6"
      },
      "execution_count": null,
      "outputs": []
    },
    {
      "cell_type": "markdown",
      "source": [],
      "metadata": {
        "id": "dikdNR4b9c-N"
      }
    },
    {
      "cell_type": "code",
      "source": [
        "test_loss, test_acc = model_separable.evaluate(x_test_norm, y_test_cat, verbose=0)\n",
        "print(f\" Test Accuracy: {test_acc:.4f}\")\n",
        "print(f\" Test Loss: {test_loss:.4f}\")"
      ],
      "metadata": {
        "id": "OzsKfzID6W4A"
      },
      "execution_count": null,
      "outputs": []
    },
    {
      "cell_type": "code",
      "source": [
        "y_pred_probs = model_separable.predict(x_test_norm, verbose=0)\n",
        "y_pred = np.argmax(y_pred_probs, axis=1)\n",
        "y_true = np.argmax(y_test_cat, axis=1)"
      ],
      "metadata": {
        "id": "Y_NIG66Q-Ito"
      },
      "execution_count": null,
      "outputs": []
    },
    {
      "cell_type": "markdown",
      "source": [
        "# Confusion Matrix + Heatmap"
      ],
      "metadata": {
        "id": "4rOJj-i4-OTE"
      }
    },
    {
      "cell_type": "code",
      "source": [
        "cm = confusion_matrix(y_true, y_pred)\n",
        "plt.figure(figsize=(10, 8))\n",
        "sns.heatmap(cm, annot=True, fmt='d', cmap='Blues', xticklabels=class_names, yticklabels=class_names)\n",
        "plt.xlabel('Predicted')\n",
        "plt.ylabel('True')\n",
        "plt.title('Confusion Matrix')\n",
        "plt.show()\n"
      ],
      "metadata": {
        "id": "B-PsxD_q-Lh3"
      },
      "execution_count": null,
      "outputs": []
    },
    {
      "cell_type": "markdown",
      "source": [
        "# Classification Report"
      ],
      "metadata": {
        "id": "rax6N_LZ-RP4"
      }
    },
    {
      "cell_type": "code",
      "source": [
        "report = classification_report(y_true, y_pred, target_names=class_names)\n",
        "print(\" Classification Report model 2:\\n\")\n",
        "print(report)"
      ],
      "metadata": {
        "id": "Z5GslWQ9-RXt"
      },
      "execution_count": null,
      "outputs": []
    },
    {
      "cell_type": "markdown",
      "source": [
        "# Worst case predictions"
      ],
      "metadata": {
        "id": "ujR8b5Iz-bQz"
      }
    },
    {
      "cell_type": "code",
      "source": [
        "confidences = np.max(y_pred_probs, axis=1)\n",
        "errors = np.where(y_pred != y_true)[0]\n",
        "sorted_errors = errors[np.argsort(-confidences[errors])]\n",
        "\n",
        "print(f\" Worst confident wrong predictions Top 5:\")\n",
        "for i in sorted_errors[:5]:\n",
        "    print(f\"Image {i} | Predicted: {class_names[y_pred[i]]} | True: {class_names[y_true[i]]} | Confidence: {confidences[i]:.4f}\")\n"
      ],
      "metadata": {
        "id": "oB6gj4L6-ZEn"
      },
      "execution_count": null,
      "outputs": []
    },
    {
      "cell_type": "markdown",
      "source": [
        "# Strongest correct predictions"
      ],
      "metadata": {
        "id": "GrE-1Plq-hAv"
      }
    },
    {
      "cell_type": "code",
      "source": [
        "correct = np.where(y_pred == y_true)[0]\n",
        "sorted_correct = correct[np.argsort(-confidences[correct])]\n",
        "\n",
        "print(f\"\\n Top confident correct predictions Top 5:\")\n",
        "for i in sorted_correct[:5]:\n",
        "    print(f\"Image {i} | Class: {class_names[y_true[i]]} | Confidence: {confidences[i]:.4f}\")"
      ],
      "metadata": {
        "id": "arE4mAZb-gfu"
      },
      "execution_count": null,
      "outputs": []
    },
    {
      "cell_type": "markdown",
      "source": [
        "# Transfer Learning (VGG16)"
      ],
      "metadata": {
        "id": "NJZJQW37Rzbq"
      }
    },
    {
      "cell_type": "code",
      "source": [
        "y_train_cat = to_categorical(y_train, num_classes=10)\n",
        "y_test_cat = to_categorical(y_test, num_classes=10)"
      ],
      "metadata": {
        "id": "xnwmmpYdcPWM"
      },
      "execution_count": null,
      "outputs": []
    },
    {
      "cell_type": "code",
      "source": [
        "mixed_precision.set_global_policy('mixed_float16')\n",
        "tf.config.optimizer.set_jit(True)  # XLA Compilation\n",
        "\n",
        "\n",
        "x_train_resized = tf.image.resize(x_train, [96, 96])\n",
        "x_test_resized = tf.image.resize(x_test, [96, 96])\n",
        "x_train_vgg = preprocess_input(x_train_resized.numpy())\n",
        "x_test_vgg = preprocess_input(x_test_resized.numpy())\n",
        "\n",
        "\n",
        "train_ds = tf.data.Dataset.from_tensor_slices((x_train_vgg, y_train_cat)).shuffle(2048).batch(128).cache().prefetch(tf.data.AUTOTUNE)\n",
        "val_ds = tf.data.Dataset.from_tensor_slices((x_test_vgg, y_test_cat)).batch(128).cache().prefetch(tf.data.AUTOTUNE)\n",
        "\n",
        "\n",
        "base_model = VGG16(include_top=False, weights='imagenet', input_shape=(96, 96, 3))\n",
        "base_model.trainable = False\n",
        "\n",
        "\n",
        "x = base_model.output\n",
        "x = GlobalAveragePooling2D()(x)\n",
        "x = Dense(64, activation='relu')(x)\n",
        "x = Dropout(0.2)(x)\n",
        "output = Dense(10, activation='softmax', dtype='float32')(x)\n",
        "\n",
        "model = Model(inputs=base_model.input, outputs=output)\n",
        "\n",
        "model.compile(optimizer=Adam(learning_rate=1e-4),\n",
        "              loss='categorical_crossentropy',\n",
        "              metrics=['accuracy'])\n",
        "\n",
        "\n",
        "early_stop = EarlyStopping(monitor='val_loss', patience=3, restore_best_weights=True, verbose=1)\n",
        "reduce_lr = ReduceLROnPlateau(monitor='val_loss', factor=0.5, patience=2, verbose=1)\n",
        "\n",
        "\n",
        "model.fit(train_ds, validation_data=val_ds, epochs=30,\n",
        "          callbacks=[early_stop, reduce_lr], verbose=1)\n",
        "\n",
        "\n",
        "for layer in base_model.layers[-4:]:\n",
        "    layer.trainable = True\n",
        "\n",
        "model.compile(optimizer=Adam(learning_rate=1e-5),\n",
        "              loss='categorical_crossentropy',\n",
        "              metrics=['accuracy'])\n",
        "\n",
        "\n",
        "model.fit(train_ds, validation_data=val_ds, epochs=10,\n",
        "          callbacks=[early_stop, reduce_lr], verbose=1)\n",
        "\n",
        "\n",
        "test_loss, test_acc = model.evaluate(val_ds, verbose=0)\n",
        "print(f\"Test Accuracy: {test_acc:.4f}, Test Loss: {test_loss:.4f}\")"
      ],
      "metadata": {
        "id": "cenRC8zT1XdO"
      },
      "execution_count": null,
      "outputs": []
    },
    {
      "cell_type": "code",
      "source": [
        "y_train_cat = to_categorical(y_train, num_classes=10)\n",
        "y_test_cat = to_categorical(y_test, num_classes=10)\n",
        "\n",
        "\n",
        "mixed_precision.set_global_policy('mixed_float16')\n",
        "tf.config.optimizer.set_jit(True)\n",
        "\n",
        "\n",
        "x_train_resized = tf.image.resize(x_train, [96, 96])\n",
        "x_test_resized = tf.image.resize(x_test, [96, 96])\n",
        "x_train_vgg = preprocess_input(x_train_resized.numpy())\n",
        "x_test_vgg = preprocess_input(x_test_resized.numpy())\n",
        "\n",
        "\n",
        "train_ds = tf.data.Dataset.from_tensor_slices((x_train_vgg, y_train_cat)).shuffle(2048).batch(128).cache().prefetch(tf.data.AUTOTUNE)\n",
        "val_ds = tf.data.Dataset.from_tensor_slices((x_test_vgg, y_test_cat)).batch(128).cache().prefetch(tf.data.AUTOTUNE)\n",
        "\n",
        "\n",
        "base_model = VGG16(include_top=False, weights='imagenet', input_shape=(96, 96, 3))\n",
        "base_model.trainable = False\n",
        "\n",
        "\n",
        "x = base_model.output\n",
        "x = GlobalAveragePooling2D()(x)\n",
        "x = Dense(64, activation='relu')(x)\n",
        "x = Dropout(0.2)(x)\n",
        "output = Dense(10, activation='softmax', dtype='float32')(x)\n",
        "\n",
        "model = Model(inputs=base_model.input, outputs=output)\n",
        "\n",
        "model.compile(optimizer=Adam(learning_rate=1e-4),\n",
        "              loss='categorical_crossentropy',\n",
        "              metrics=['accuracy'])\n",
        "\n",
        "\n",
        "early_stop = EarlyStopping(monitor='val_loss', patience=3, restore_best_weights=True, verbose=1)\n",
        "reduce_lr = ReduceLROnPlateau(monitor='val_loss', factor=0.5, patience=2, verbose=1)\n",
        "\n",
        "\n",
        "history1 = model.fit(train_ds, validation_data=val_ds, epochs=80,\n",
        "                     callbacks=[early_stop, reduce_lr], verbose=1)\n",
        "\n",
        "for layer in base_model.layers[-4:]:\n",
        "    layer.trainable = True\n",
        "\n",
        "model.compile(optimizer=Adam(learning_rate=1e-5),\n",
        "              loss='categorical_crossentropy',\n",
        "              metrics=['accuracy'])\n",
        "\n",
        "history2 = model.fit(train_ds, validation_data=val_ds, epochs=10,\n",
        "                     callbacks=[early_stop, reduce_lr], verbose=1)\n",
        "\n"
      ],
      "metadata": {
        "id": "ox6lPq2S9cbm"
      },
      "execution_count": null,
      "outputs": []
    },
    {
      "cell_type": "code",
      "source": [
        "for layer in model.layers:\n",
        "    print(layer.name)"
      ],
      "metadata": {
        "id": "ba7S9D-AlNhG"
      },
      "execution_count": null,
      "outputs": []
    },
    {
      "cell_type": "code",
      "source": [
        "model.save(\"vgg_light_finetuned22.h5\")"
      ],
      "metadata": {
        "id": "72hZNjEgljOb"
      },
      "execution_count": null,
      "outputs": []
    },
    {
      "cell_type": "markdown",
      "source": [
        "# model summary\n"
      ],
      "metadata": {
        "id": "a_xswBytlKw4"
      }
    },
    {
      "cell_type": "code",
      "source": [
        "model.summary()"
      ],
      "metadata": {
        "id": "imxXy2HhlIvk"
      },
      "execution_count": null,
      "outputs": []
    },
    {
      "cell_type": "markdown",
      "source": [
        "# Evaluate the model on test set"
      ],
      "metadata": {
        "id": "8j01SQYaVGL1"
      }
    },
    {
      "cell_type": "code",
      "source": [
        "y_pred_probs = model.predict(val_ds)\n",
        "y_pred = np.argmax(y_pred_probs, axis=1)\n",
        "y_true = np.argmax(y_test_cat, axis=1)\n",
        "\n",
        "\n",
        "print(\"Classification Report:\\n\", classification_report(y_true, y_pred))"
      ],
      "metadata": {
        "id": "lBx9t1c07FzJ"
      },
      "execution_count": null,
      "outputs": []
    },
    {
      "cell_type": "markdown",
      "source": [
        "#Confusion Matrix\n"
      ],
      "metadata": {
        "id": "pTU0EasOVYi8"
      }
    },
    {
      "cell_type": "code",
      "source": [
        "conf_mat = confusion_matrix(y_true, y_pred)\n",
        "plt.figure(figsize=(10, 8))\n",
        "sns.heatmap(conf_mat, annot=True, fmt='d', cmap='Blues')\n",
        "plt.title('Confusion Matrix')\n",
        "plt.xlabel('Predicted Label')\n",
        "plt.ylabel('True Label')\n",
        "plt.show()"
      ],
      "metadata": {
        "id": "qSwndoI3VQsX"
      },
      "execution_count": null,
      "outputs": []
    },
    {
      "cell_type": "markdown",
      "source": [
        "# High Confidence Errors"
      ],
      "metadata": {
        "id": "W9KOS1v_7y5d"
      }
    },
    {
      "cell_type": "code",
      "source": [
        "wrong_indices = np.where(y_pred != y_true)[0]\n",
        "wrong_confidences = np.max(y_pred_probs[wrong_indices], axis=1)\n",
        "top_wrong = wrong_indices[np.argsort(wrong_confidences)[-10:]]\n",
        "\n",
        "\n",
        "plt.figure(figsize=(15, 5))\n",
        "for i, idx in enumerate(top_wrong):\n",
        "    plt.subplot(2, 5, i + 1)\n",
        "    plt.imshow(x_test_resized[idx].numpy().astype(\"uint8\"))\n",
        "    plt.title(f\"True: {y_true[idx]}, Pred: {y_pred[idx]}\\nConf: {wrong_confidences[np.argsort(wrong_confidences)[-10:]][i]:.2f}\")\n",
        "    plt.axis(\"off\")\n",
        "plt.suptitle(\"Most Confident Wrong Predictions\")\n",
        "plt.show()\n"
      ],
      "metadata": {
        "id": "UPGzCAkb7uvy"
      },
      "execution_count": null,
      "outputs": []
    },
    {
      "cell_type": "markdown",
      "source": [
        "# Top Confident Correct Predictions"
      ],
      "metadata": {
        "id": "S-yDVGce75jH"
      }
    },
    {
      "cell_type": "code",
      "source": [
        "correct_indices = np.where(y_pred == y_true)[0]\n",
        "correct_confidences = np.max(y_pred_probs[correct_indices], axis=1)\n",
        "top_correct = correct_indices[np.argsort(correct_confidences)[-10:]]\n",
        "\n",
        "plt.figure(figsize=(15, 5))\n",
        "for i, idx in enumerate(top_correct):\n",
        "    plt.subplot(2, 5, i + 1)\n",
        "    plt.imshow(x_test_resized[idx].numpy().astype(\"uint8\"))\n",
        "    plt.title(f\"Label: {y_true[idx]}\\nConf: {correct_confidences[np.argsort(correct_confidences)[-10:]][i]:.2f}\")\n",
        "    plt.axis(\"off\")\n",
        "plt.suptitle(\"Most Confident Correct Predictions\")\n",
        "plt.show()\n"
      ],
      "metadata": {
        "id": "ul4deI9L751X"
      },
      "execution_count": null,
      "outputs": []
    },
    {
      "cell_type": "markdown",
      "source": [
        "# Accuracy & Loss Curves"
      ],
      "metadata": {
        "id": "h50PFVLoVrOR"
      }
    },
    {
      "cell_type": "code",
      "source": [
        "test_loss, test_acc = model.evaluate(val_ds, verbose=0)\n",
        "print(f\"Test Accuracy: {test_acc:.4f}, Test Loss: {test_loss:.4f}\")\n",
        "\n",
        "def merge_histories(h1, h2):\n",
        "    merged = {}\n",
        "    for key in h1.history:\n",
        "        merged[key] = h1.history[key] + h2.history[key]\n",
        "    return merged\n",
        "\n",
        "def plot_training_curves(history):\n",
        "    acc = history['accuracy']\n",
        "    val_acc = history['val_accuracy']\n",
        "    loss = history['loss']\n",
        "    val_loss = history['val_loss']\n",
        "\n",
        "    plt.figure(figsize=(14, 5))\n",
        "\n",
        "    plt.subplot(1, 2, 1)\n",
        "    plt.plot(acc, label='Train Accuracy')\n",
        "    plt.plot(val_acc, label='Val Accuracy')\n",
        "    plt.title('Accuracy over Epochs')\n",
        "    plt.xlabel('Epoch')\n",
        "    plt.ylabel('Accuracy')\n",
        "    plt.legend()\n",
        "\n",
        "\n",
        "    plt.subplot(1, 2, 2)\n",
        "    plt.plot(loss, label='Train Loss')\n",
        "    plt.plot(val_loss, label='Val Loss')\n",
        "    plt.title('Loss over Epochs')\n",
        "    plt.xlabel('Epoch')\n",
        "    plt.ylabel('Loss')\n",
        "    plt.legend()\n",
        "\n",
        "    plt.show()\n",
        "\n",
        "\n",
        "merged_history = merge_histories(history1, history2)\n",
        "plot_training_curves(merged_history)"
      ],
      "metadata": {
        "id": "_sM16GVkVtdk"
      },
      "execution_count": null,
      "outputs": []
    },
    {
      "cell_type": "markdown",
      "source": [
        "# Grad-CAM on VGG model"
      ],
      "metadata": {
        "id": "9NxNqU54_OQt"
      }
    },
    {
      "cell_type": "code",
      "source": [
        "index = 7\n",
        "img_input = x_test_vgg[index]\n",
        "original_img = x_test_resized[index].numpy()\n",
        "\n",
        "\n",
        "img_tensor = tf.convert_to_tensor(np.expand_dims(img_input, axis=0))\n",
        "\n",
        "\n",
        "last_conv_layer_name = \"block5_conv3\"\n",
        "\n",
        "\n",
        "grad_model = tf.keras.models.Model(\n",
        "    [model.inputs],\n",
        "    [model.get_layer(last_conv_layer_name).output, model.output]\n",
        ")\n",
        "\n",
        "\n",
        "with tf.GradientTape() as tape:\n",
        "    conv_outputs, predictions = grad_model(img_tensor)\n",
        "    predicted_class = tf.argmax(predictions[0])\n",
        "    loss = predictions[:, predicted_class]\n",
        "\n",
        "grads = tape.gradient(loss, conv_outputs)\n",
        "pooled_grads = tf.reduce_mean(grads, axis=(0, 1, 2))\n",
        "\n",
        "conv_outputs = conv_outputs[0]\n",
        "heatmap = conv_outputs @ pooled_grads[..., tf.newaxis]\n",
        "heatmap = tf.squeeze(heatmap)\n",
        "\n",
        "\n",
        "heatmap = tf.squeeze(heatmap)\n",
        "\n",
        "\n",
        "if len(heatmap.shape) != 2 or tf.reduce_max(heatmap).numpy() == 0:\n",
        "    heatmap = tf.ones((12, 12))\n",
        "\n",
        "\n",
        "heatmap = np.maximum(heatmap, 0)\n",
        "heatmap = heatmap / np.max(heatmap)\n",
        "\n",
        "\n",
        "heatmap = np.uint8(255 * heatmap)\n",
        "heatmap = cv2.resize(heatmap, (96, 96))\n",
        "heatmap_color = cv2.applyColorMap(heatmap, cv2.COLORMAP_JET)\n",
        "\n",
        "\n",
        "original_img_norm = (original_img - original_img.min()) / (original_img.max() - original_img.min())\n",
        "original_img_uint8 = np.uint8(original_img_norm * 255)\n",
        "\n",
        "\n",
        "alpha = 0.4\n",
        "overlay = cv2.addWeighted(original_img_uint8, 1 - alpha, heatmap_color, alpha, 0)\n",
        "\n",
        "\n",
        "plt.figure(figsize=(12, 4))\n",
        "\n",
        "plt.subplot(1, 3, 1)\n",
        "plt.title(\"Original Image\")\n",
        "plt.imshow(original_img_uint8.astype('uint8'))\n",
        "plt.axis('off')\n",
        "\n",
        "plt.subplot(1, 3, 2)\n",
        "plt.title(\"Grad-CAM Heatmap\")\n",
        "plt.imshow(heatmap, cmap='jet')\n",
        "plt.axis('off')\n",
        "\n",
        "plt.subplot(1, 3, 3)\n",
        "plt.title(f\"Overlayed - Pred: {predicted_class.numpy()}\")\n",
        "plt.imshow(overlay)\n",
        "plt.axis('off')\n",
        "\n",
        "plt.tight_layout()\n",
        "plt.show()\n"
      ],
      "metadata": {
        "id": "UxEmWBTR_Q45"
      },
      "execution_count": null,
      "outputs": []
    },
    {
      "cell_type": "markdown",
      "source": [
        "# The Bonus Autoencoder + KMeans + visualization by T-SNE"
      ],
      "metadata": {
        "id": "XKPOdJGnD6Wa"
      }
    },
    {
      "cell_type": "code",
      "source": [
        "!pip install tensorflow --quiet"
      ],
      "metadata": {
        "id": "K-Gl4AzG__eJ"
      },
      "execution_count": null,
      "outputs": []
    },
    {
      "cell_type": "code",
      "source": [
        "(x_train, y_train), (x_test, y_test) = cifar10.load_data()\n",
        "x_data = np.concatenate((x_train, x_test), axis=0).astype('float32') / 255.0\n",
        "y_data = np.concatenate((y_train, y_test), axis=0).flatten()\n",
        "\n",
        "\n",
        "input_img = Input(shape=(32, 32, 3))\n",
        "x = Conv2D(32, 3, activation='relu', padding='same')(input_img)\n",
        "x = MaxPooling2D(2, padding='same')(x)\n",
        "x = Conv2D(64, 3, activation='relu', padding='same')(x)\n",
        "encoded = MaxPooling2D(2, padding='same')(x)  # (8, 8, 64)\n",
        "\n",
        "x = Conv2D(64, 3, activation='relu', padding='same')(encoded)\n",
        "x = UpSampling2D(2)(x)\n",
        "x = Conv2D(32, 3, activation='relu', padding='same')(x)\n",
        "x = UpSampling2D(2)(x)\n",
        "decoded = Conv2D(3, 3, activation='sigmoid', padding='same')(x)\n",
        "\n",
        "autoencoder = Model(input_img, decoded)\n",
        "autoencoder.compile(optimizer=Adam(1e-3), loss='mse')\n",
        "\n",
        "\n",
        "autoencoder.fit(x_data[:40000], x_data[:40000],\n",
        "                epochs=15, batch_size=256,\n",
        "                validation_split=0.1, shuffle=True)\n",
        "\n",
        "\n",
        "encoder = Model(input_img, encoded)\n",
        "features = encoder.predict(x_data[:10000])\n",
        "features_flat = features.reshape((features.shape[0], -1))\n",
        "true_labels = y_data[:10000]\n",
        "\n",
        "\n",
        "kmeans = KMeans(n_clusters=10, random_state=42)\n",
        "pred_clusters = kmeans.fit_predict(features_flat)\n",
        "\n",
        "\n",
        "ari_score = adjusted_rand_score(true_labels, pred_clusters)\n",
        "print(f\"Adjusted Rand Index (ARI): {ari_score:.4f}\")\n",
        "\n",
        "\n",
        "tsne = TSNE(n_components=2, random_state=42)\n",
        "tsne_result = tsne.fit_transform(features_flat)\n",
        "\n",
        "plt.figure(figsize=(10, 6))\n",
        "sns.scatterplot(x=tsne_result[:, 0], y=tsne_result[:, 1], hue=pred_clusters, palette='tab10', legend='full', s=20)\n",
        "plt.title(\"t-SNE of Encoded Features + KMeans Clustering\")\n",
        "plt.xlabel(\"t-SNE Component 1\")\n",
        "plt.ylabel(\"t-SNE Component 2\")\n",
        "plt.grid(True)\n",
        "plt.legend(title='Cluster')\n",
        "plt.show()\n",
        "\n",
        "\n",
        "def show_cluster_examples(images, labels, cluster_ids, samples_per_cluster=5):\n",
        "    plt.figure(figsize=(samples_per_cluster*2, 20))\n",
        "    for cluster in range(10):\n",
        "        idxs = np.where(cluster_ids == cluster)[0][:samples_per_cluster]\n",
        "        for i, idx in enumerate(idxs):\n",
        "            plt.subplot(10, samples_per_cluster, cluster*samples_per_cluster + i + 1)\n",
        "            plt.imshow(images[idx])\n",
        "            plt.axis('off')\n",
        "            if i == 0:\n",
        "                plt.ylabel(f\"Cluster {cluster}\", fontsize=12)\n",
        "    plt.suptitle(\"Example Images from Each Cluster\", fontsize=16)\n",
        "    plt.tight_layout()\n",
        "    plt.show()\n",
        "\n",
        "show_cluster_examples(x_data[:10000], true_labels, pred_clusters)\n"
      ],
      "metadata": {
        "id": "rKQCVBs2FK1K"
      },
      "execution_count": null,
      "outputs": []
    },
    {
      "cell_type": "code",
      "source": [
        "(x_train, y_train), (x_test, y_test) = cifar10.load_data()\n",
        "x_data = np.concatenate([x_train, x_test])\n",
        "y_data = np.concatenate([y_train, y_test]).flatten()\n",
        "\n",
        "x_subset = x_data[:10000]\n",
        "y_subset = y_data[:10000]\n",
        "\n",
        "x_resized = tf.image.resize(x_subset, [224, 224]).numpy()\n",
        "x_preprocessed = preprocess_input(x_resized)\n",
        "\n",
        "vgg = VGG16(weights='imagenet', include_top=False, input_shape=(224, 224, 3))\n",
        "x = vgg.output\n",
        "x = GlobalAveragePooling2D()(x)\n",
        "feature_model = Model(inputs=vgg.input, outputs=x)\n",
        "\n",
        "\n",
        "features = feature_model.predict(x_preprocessed, batch_size=64, verbose=1)\n",
        "\n",
        "\n",
        "kmeans = KMeans(n_clusters=10, random_state=42)\n",
        "clusters = kmeans.fit_predict(features)\n",
        "\n",
        "\n",
        "ari = adjusted_rand_score(y_subset, clusters)\n",
        "print(f\"\\n Adjusted Rand Index (ARI): {ari:.4f}\")\n",
        "\n",
        "tsne = TSNE(n_components=2, perplexity=50, random_state=42)\n",
        "tsne_result = tsne.fit_transform(features)\n",
        "\n",
        "\n",
        "df = pd.DataFrame({\n",
        "    'x': tsne_result[:, 0],\n",
        "    'y': tsne_result[:, 1],\n",
        "    'cluster': clusters\n",
        "})\n",
        "\n",
        "plt.figure(figsize=(10, 6))\n",
        "sns.scatterplot(data=df, x='x', y='y', hue='cluster', palette='tab10', s=20)\n",
        "plt.title(f\"t-SNE of VGG16 Features + KMeans (ARI: {ari:.4f})\")\n",
        "plt.grid(True)\n",
        "plt.legend(title='Cluster')\n",
        "plt.tight_layout()\n",
        "plt.show()\n"
      ],
      "metadata": {
        "id": "7_v9n-J1Ipw2"
      },
      "execution_count": null,
      "outputs": []
    },
    {
      "cell_type": "code",
      "source": [
        "(x_train, y_train), (x_test, y_test) = cifar10.load_data()\n",
        "x_data = np.concatenate([x_train, x_test])\n",
        "y_data = np.concatenate([y_train, y_test]).flatten()\n",
        "\n",
        "x_subset = x_data[:10000]\n",
        "y_subset = y_data[:10000]\n",
        "\n",
        "x_resized = tf.image.resize(x_subset, [224, 224]).numpy()\n",
        "x_preprocessed = preprocess_input(x_resized)\n",
        "\n",
        "base_model = VGG16(weights='imagenet', include_top=False, input_shape=(224, 224, 3))\n",
        "for layer in base_model.layers:\n",
        "    layer.trainable = False\n",
        "\n",
        "x = base_model.output\n",
        "x = GlobalAveragePooling2D()(x)\n",
        "x = Dense(256, activation='relu')(x)\n",
        "x = Dropout(0.4)(x)\n",
        "x = Dense(128, activation='relu')(x)\n",
        "feature_output = Dropout(0.4)(x)\n",
        "\n",
        "feature_model = Model(inputs=base_model.input, outputs=feature_output)\n",
        "\n",
        "\n",
        "features = feature_model.predict(x_preprocessed, batch_size=64, verbose=1)\n",
        "\n",
        "\n",
        "kmeans = KMeans(n_clusters=10, random_state=42)\n",
        "clusters = kmeans.fit_predict(features)\n",
        "\n",
        "\n",
        "ari = adjusted_rand_score(y_subset, clusters)\n",
        "print(f\"\\n Adjusted Rand Index (ARI): {ari:.4f}\")\n",
        "\n",
        "\n",
        "df_results = pd.DataFrame({\n",
        "    'Image_Index': np.arange(len(y_subset)),\n",
        "    'True_Label': y_subset,\n",
        "    'Cluster': clusters\n",
        "})\n",
        "df_results.to_csv(\"vgg_clusters.csv\", index=False)\n",
        "\n",
        "\n",
        "tsne_result = TSNE(n_components=2, perplexity=50, random_state=42).fit_transform(features)\n",
        "df_tsne = pd.DataFrame({\n",
        "    'x': tsne_result[:, 0],\n",
        "    'y': tsne_result[:, 1],\n",
        "    'cluster': clusters\n",
        "})\n",
        "\n",
        "plt.figure(figsize=(10, 6))\n",
        "sns.scatterplot(data=df_tsne, x='x', y='y', hue='cluster', palette='tab10', s=20)\n",
        "plt.title(f\"t-SNE of VGG16 Features + KMeans Clustering\\nARI: {ari:.4f}\")\n",
        "plt.grid(True)\n",
        "plt.tight_layout()\n",
        "plt.legend(title=\"Cluster\")\n",
        "plt.show()\n",
        "\n",
        "\n",
        "def show_cluster_examples(images, cluster_ids, samples_per_cluster=5):\n",
        "    plt.figure(figsize=(samples_per_cluster * 2, 20))\n",
        "    for cluster in range(10):\n",
        "        idxs = np.where(cluster_ids == cluster)[0][:samples_per_cluster]\n",
        "        for i, idx in enumerate(idxs):\n",
        "            plt.subplot(10, samples_per_cluster, cluster * samples_per_cluster + i + 1)\n",
        "            plt.imshow(images[idx])\n",
        "            plt.axis('off')\n",
        "            if i == 0:\n",
        "                plt.ylabel(f\"Cluster {cluster}\", fontsize=12)\n",
        "    plt.suptitle(\"Example Images from Each Cluster\", fontsize=16)\n",
        "    plt.tight_layout()\n",
        "    plt.show()\n",
        "\n",
        "show_cluster_examples(x_subset, clusters)\n"
      ],
      "metadata": {
        "id": "MSs9_dRDNBUr"
      },
      "execution_count": null,
      "outputs": []
    },
    {
      "cell_type": "code",
      "source": [],
      "metadata": {
        "id": "K1purj9hNuF4"
      },
      "execution_count": null,
      "outputs": []
    }
  ]
}